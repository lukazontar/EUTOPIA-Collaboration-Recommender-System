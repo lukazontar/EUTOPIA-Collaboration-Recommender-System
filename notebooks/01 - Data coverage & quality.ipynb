{
 "cells": [
  {
   "metadata": {},
   "cell_type": "markdown",
   "source": [
    "# Data coverage & quality\n",
    "\n",
    "In this notebook we will go through the data tables that are used in analytics and modeling and check the coverage and quality of the data."
   ],
   "id": "d7cd038975935390"
  },
  {
   "metadata": {
    "ExecuteTime": {
     "end_time": "2024-06-23T09:52:22.130361Z",
     "start_time": "2024-06-23T09:52:22.116350Z"
    }
   },
   "cell_type": "code",
   "source": [
    "import matplotlib.pyplot as plt\n",
    "import numpy as np\n",
    "import pandas as pd\n",
    "import seaborn as sns\n",
    "from box import Box\n",
    "from google.cloud import bigquery"
   ],
   "id": "12a82c7b38333f5e",
   "outputs": [],
   "execution_count": 37
  },
  {
   "metadata": {
    "ExecuteTime": {
     "end_time": "2024-06-23T09:52:22.224250Z",
     "start_time": "2024-06-23T09:52:22.175674Z"
    }
   },
   "cell_type": "code",
   "source": [
    "# -------------------- GLOBAL VARIABLES --------------------\n",
    "PATH_TO_CONFIG_FILE = '../config.yml'\n",
    "\n",
    "# -------------------- LOAD CONFIGURATION --------------------\n",
    "# Load the configuration file\n",
    "config = Box.from_yaml(filename=PATH_TO_CONFIG_FILE)\n",
    "# Initialize a BigQuery client\n",
    "client = bigquery.Client(project=config.GCP.PROJECT_ID)\n",
    "# Set the BigQuery dataset schema\n",
    "read_schema = config.GCP.READ_SCHEMA\n",
    "ingestion_schema = config.GCP.INGESTION_SCHEMA\n",
    "analytics_schema = config.GCP.ANALYTICS_SCHEMA\n",
    "\n",
    "# Define the color palette\n",
    "palette = {'good': config.DASHBOARD.COLORS.GOOD_COLOR,\n",
    "           'warning': config.DASHBOARD.COLORS.WARNING_COLOR,\n",
    "           'bad': config.DASHBOARD.COLORS.BAD_COLOR}\n",
    "DEFAULT_VALUE = 'n/a'"
   ],
   "id": "1d056988b389c9ee",
   "outputs": [],
   "execution_count": 38
  },
  {
   "metadata": {
    "ExecuteTime": {
     "end_time": "2024-06-23T09:52:22.255857Z",
     "start_time": "2024-06-23T09:52:22.227251Z"
    }
   },
   "cell_type": "code",
   "source": [
    "def column_coverage(series: pd.Series, default_value: str) -> float:\n",
    "    \"\"\"\n",
    "    Calculate the coverage of a column in percentage.\n",
    "    :param series: Pandas Series\n",
    "    :param default_value: Default value to be considered as missing\n",
    "    :return: Coverage of the column in percentage\n",
    "    \"\"\"\n",
    "    # Calculate the coverage of the column in percentage by dividing the number \n",
    "    # of non-default values to the total number of values\n",
    "    coverage = series[series != default_value].shape[0] / series.shape[0] * 100\n",
    "    return coverage\n",
    "\n",
    "\n",
    "def table_health(df: pd.DataFrame, default_value: str) -> pd.DataFrame:\n",
    "    \"\"\"\n",
    "    Calculate the health metrics of a DataFrame.\n",
    "    :param df: Pandas DataFrame\n",
    "    :param default_value: Default value to be considered as missing\n",
    "    :return: Health metrics of the DataFrame\n",
    "    \"\"\"\n",
    "    # list to store the health metrics of the DataFrame\n",
    "    list_table__health = []\n",
    "    # Iterate over the columns of the DataFrame\n",
    "    for column in df.columns:\n",
    "        # Calculate the coverage of the column\n",
    "        coverage = column_coverage(df[column], default_value)\n",
    "\n",
    "        # Append the health metrics to the DataFrame\n",
    "        list_table__health.append(\n",
    "            dict(column_name=column,\n",
    "                 coverage=coverage)\n",
    "        )\n",
    "\n",
    "    # Return the health metrics as a DataFrame sorted by coverage\n",
    "    return pd.DataFrame(list_table__health).sort_values(by='coverage', ascending=False)\n",
    "\n",
    "\n",
    "# Define the color mapping based on coverage\n",
    "def get_color_label(coverage):\n",
    "    \"\"\"\n",
    "    Get the color label based on the coverage percentage.\n",
    "    :param coverage: Coverage percentage\n",
    "    :return: Color label\n",
    "    \"\"\"\n",
    "    if coverage > 90:\n",
    "        return 'good'\n",
    "    elif coverage > 70:\n",
    "        return 'warning'\n",
    "    else:\n",
    "        return 'bad'\n",
    "\n",
    "\n",
    "def plot_health_metrics(df_source: pd.DataFrame, table_name: str, default_value: str, palette: dict):\n",
    "    \"\"\"\n",
    "    Plot the health metrics of a DataFrame.\n",
    "    :param df_source: Pandas DataFrame to be analyzed\n",
    "    :param table_name: Name of the table\n",
    "    :param default_value: Default value to be considered as missing\n",
    "    :param palette: Color palette \n",
    "    \"\"\"\n",
    "    # Calculate the health metrics of the table\n",
    "    df_health = table_health(df=df_source,\n",
    "                             default_value=default_value)\n",
    "\n",
    "    # Visualize the health metrics using a bar chart with the coverage on the y-axis.\n",
    "    # We use 'good' color for coverage above 90%, 'warning' color for coverage between 70% and 90%\n",
    "    # and 'bad' color for coverage below 70%.\n",
    "\n",
    "    # Apply the function to create a new column for color labels\n",
    "    df_health['color_label'] = df_health['coverage'].apply(get_color_label)\n",
    "\n",
    "    # Create the bar plot with data labels with hue based on the color labels\n",
    "    ax = sns.barplot(x='coverage', y='column_name', data=df_health,\n",
    "                     hue='color_label', palette=palette, dodge=False, legend=False)\n",
    "    # Add the data labels to the plot (truncated to 0 decimal points)\n",
    "    for container in ax.containers:\n",
    "        ax.bar_label(container, fmt='%.0f', label_type='edge')\n",
    "    plt.xlabel('Coverage (%)')\n",
    "    plt.ylabel('Column')\n",
    "    # Set the title of the plot\n",
    "    plt.title(f'{table_name} - Health Metrics')\n",
    "    plt.xlim(0, 100)\n",
    "    plt.show()\n"
   ],
   "id": "6f6a01cb9857e644",
   "outputs": [],
   "execution_count": 39
  },
  {
   "metadata": {},
   "cell_type": "markdown",
   "source": [
    "## DIM_ARTICLE\n",
    "\n",
    "Read the `DIM_ARTICLE` table from the BigQuery dataset and output first few rows of the table to understand what the data looks like."
   ],
   "id": "2e8c77f21d3ae727"
  },
  {
   "metadata": {
    "jupyter": {
     "is_executing": true
    },
    "ExecuteTime": {
     "start_time": "2024-06-23T09:52:22.257852Z"
    }
   },
   "cell_type": "code",
   "source": [
    "query_article = f\"\"\"\n",
    "SELECT\n",
    "    *\n",
    "FROM\n",
    "    {read_schema}.DIM_ARTICLE\n",
    "\"\"\"\n",
    "\n",
    "df_article = client.query(query_article).to_dataframe()\n",
    "df_article.head(10)"
   ],
   "id": "41b059ea20be930f",
   "outputs": [],
   "execution_count": null
  },
  {
   "metadata": {
    "jupyter": {
     "is_executing": true
    }
   },
   "cell_type": "code",
   "source": [
    "plot_health_metrics(df_source=df_article,\n",
    "                    table_name='DIM_ARTICLE',\n",
    "                    default_value=DEFAULT_VALUE,\n",
    "                    palette=palette)"
   ],
   "id": "66fc7784f42e088c",
   "outputs": [],
   "execution_count": null
  },
  {
   "metadata": {},
   "cell_type": "markdown",
   "source": [
    "### Defining articles for final analysis\n",
    "\n",
    "After checking base data coverage, we will check how many articles were published by EUTOPIA institutions. This will serve as baseline for further data coverage analysis.\n",
    "We will then check the following:\n",
    "1. For how many articles we have the full text available.\n",
    "2. How many articles are written in English?\n",
    "3. For how many articles we already have the embeddings available.\n"
   ],
   "id": "5e0d31a38b268c6b"
  },
  {
   "metadata": {
    "jupyter": {
     "is_executing": true
    }
   },
   "cell_type": "code",
   "source": [
    "query_articles_eutopia = f\"\"\"\n",
    "SELECT\n",
    "    COUNT(DISTINCT ARTICLE_SID) AS ARTICLE_COUNT\n",
    "FROM\n",
    "    {read_schema}.FCT_COLLABORATION F\n",
    "WHERE\n",
    "    IS_EUTOPIAN_PUBLICATION\n",
    "    AND A.ARTICLE_TITLE <> 'n/a' \n",
    "\"\"\"\n",
    "\n",
    "df_articles_eutopia = client.query(query_articles_eutopia).to_dataframe()\n",
    "n_relevant_articles = df_articles_eutopia.iloc[0, 0]\n",
    "print(f\"Number of articles published by EUTOPIA institutions: {n_relevant_articles}\")"
   ],
   "id": "be9b9683413c0d86",
   "outputs": [],
   "execution_count": null
  },
  {
   "metadata": {
    "jupyter": {
     "is_executing": true
    }
   },
   "cell_type": "code",
   "source": [
    "# Check how many articles have full text available\n",
    "query_articles_full_text = f\"\"\"\n",
    "SELECT\n",
    "    COUNT(DISTINCT F.ARTICLE_SID) AS ARTICLE_COUNT\n",
    "FROM\n",
    "    {read_schema}.FCT_COLLABORATION F\n",
    "    INNER JOIN {read_schema}.DIM_ARTICLE A \n",
    "        ON F.ARTICLE_SID = A.ARTICLE_SID\n",
    "    INNER JOIN {read_schema}.STG_UNPAYWALL_ARTICLE OA \n",
    "        ON A.ARTICLE_DOI = OA.ARTICLE_DOI \n",
    "WHERE\n",
    "    F.IS_EUTOPIAN_PUBLICATION\n",
    "    AND A.ARTICLE_TITLE <> 'n/a' \n",
    "    AND OA.IS_ARTICLE_OPEN_ACCESS\n",
    "\"\"\"\n",
    "\n",
    "df_articles_full_text = client.query(query_articles_full_text).to_dataframe()\n",
    "n_articles_full_text = df_articles_full_text.iloc[0, 0]\n",
    "\n",
    "# Visualize the coverage of articles with full text available\n",
    "ax = sns.barplot(x=['Open Access', 'Closed'],\n",
    "                 y=[100 * n_articles_full_text / n_relevant_articles,\n",
    "                    100 * (n_relevant_articles - n_articles_full_text) / n_relevant_articles],\n",
    "                 hue=['Open Access', 'Closed'],\n",
    "                 palette=[palette['good'], palette['bad']])\n",
    "\n",
    "# Add the data labels to the plot (truncated to 0 decimal points)\n",
    "for container in ax.containers:\n",
    "    ax.bar_label(container, fmt='%.0f', label_type='edge')\n",
    "plt.ylabel('Percentage of relevant articles (%)')\n",
    "plt.title('Coverage (%) of articles with full text available')\n",
    "plt.ylim(0, 100)\n",
    "plt.show()"
   ],
   "id": "6341efb295bfecac",
   "outputs": [],
   "execution_count": null
  },
  {
   "metadata": {
    "jupyter": {
     "is_executing": true
    }
   },
   "cell_type": "code",
   "source": [
    "# Show article distribution (in %) over languages (df_article.ARTICLE_LANGUAGE) and show 'n/a' with bad color\n",
    "\n",
    "# Split to 3 groups: English, Non-English and 'n/a'\n",
    "df_article['ARTICLE_LANGUAGE_GROUP'] = df_article['ARTICLE_LANGUAGE'].apply(\n",
    "    lambda x: 'English' if x == 'en' else 'Non-English' if x != DEFAULT_VALUE else DEFAULT_VALUE)\n",
    "\n",
    "# Plot the distribution of articles over languages\n",
    "ax = sns.barplot(y=df_article['ARTICLE_LANGUAGE_GROUP'].value_counts(normalize=True).index,\n",
    "                 x=100 * df_article['ARTICLE_LANGUAGE_GROUP'].value_counts(normalize=True).values,\n",
    "                 hue=df_article['ARTICLE_LANGUAGE_GROUP'].value_counts(normalize=True).index,\n",
    "                 palette=[palette['good'] if x != DEFAULT_VALUE else palette['bad']\n",
    "                          for x in df_article['ARTICLE_LANGUAGE_GROUP'].value_counts(normalize=True).index])\n",
    "plt.xlabel('Language')\n",
    "plt.ylabel('Percentage of articles (%)')\n",
    "plt.title('Distribution of articles over languages')\n",
    "for container in ax.containers:\n",
    "    ax.bar_label(container, fmt='%.0f', label_type='edge')\n",
    "plt.xlim(0, 100)\n",
    "plt.show()"
   ],
   "id": "a742ab6351400c39",
   "outputs": [],
   "execution_count": null
  },
  {
   "metadata": {
    "jupyter": {
     "is_executing": true
    }
   },
   "cell_type": "code",
   "source": [
    "# Check how for how many articles we have the embeddings available\n",
    "query_articles_embeddings = f\"\"\"\n",
    "SELECT\n",
    "    COUNT(DISTINCT F.ARTICLE_SID) AS ARTICLE_COUNT\n",
    "FROM\n",
    "    {read_schema}.FCT_COLLABORATION F\n",
    "    INNER JOIN {read_schema}.DIM_ARTICLE A \n",
    "    ON F.ARTICLE_SID = A.ARTICLE_SID \n",
    "    INNER JOIN {analytics_schema}.TEXT_EMBEDDING_ARTICLE E\n",
    "    ON E.DOI = A.ARTICLE_DOI\n",
    "WHERE\n",
    "    F.IS_EUTOPIAN_PUBLICATION\n",
    "    AND A.ARTICLE_TITLE <> 'n/a'\n",
    "\"\"\"\n",
    "\n",
    "df_articles_embeddings = client.query(query_articles_embeddings).to_dataframe()\n",
    "n_articles_with_embeddings = df_articles_embeddings.iloc[0, 0]\n",
    "\n",
    "# Visualize the coverage of articles with embeddings available\n",
    "ax = sns.barplot(x=['With embeddings', 'Without embeddings'],\n",
    "                 y=[100 * n_articles_with_embeddings / n_relevant_articles,\n",
    "                    100 * (n_relevant_articles - n_articles_with_embeddings) / n_relevant_articles],\n",
    "                 hue=['With embeddings', 'Without embeddings'],\n",
    "                 palette=[palette['good'], palette['bad']])\n",
    "# Add the data labels to the plot (truncated to 0 decimal points)\n",
    "for container in ax.containers:\n",
    "    ax.bar_label(container, fmt='%.0f', label_type='edge')\n",
    "plt.ylabel('Percentage of relevant articles (%)')\n",
    "plt.title('Coverage (%) of articles with embeddings available')\n",
    "plt.ylim(0, 100)\n",
    "plt.show()"
   ],
   "id": "6243410883d9ab8c",
   "outputs": [],
   "execution_count": null
  },
  {
   "metadata": {},
   "cell_type": "markdown",
   "source": [
    "Given the data coverage, we see several bottlenecks on the data availability. To improve our dataset we will redefine the notion of relevant articles as articles that:\n",
    "1. Are published by EUTOPIA institutions.\n",
    "2. Have title available.\n",
    "3. Have one of the following available: full text, abstract or references.\n",
    "4. Are written in English.\n",
    "5. Have the embeddings available. (TODO: this check will be added later as the data is not available yet) "
   ],
   "id": "b29c91aa1fb1c019"
  },
  {
   "metadata": {
    "jupyter": {
     "is_executing": true
    }
   },
   "cell_type": "code",
   "source": [
    "query_articles_relevant = f\"\"\"\n",
    "SELECT\n",
    "    COUNT(DISTINCT F.ARTICLE_SID) AS ARTICLE_COUNT\n",
    "FROM\n",
    "    {read_schema}.FCT_COLLABORATION F\n",
    "    INNER JOIN {read_schema}.DIM_ARTICLE A \n",
    "        ON F.ARTICLE_SID = A.ARTICLE_SID\n",
    "    LEFT JOIN {read_schema}.STG_UNPAYWALL_ARTICLE OA \n",
    "        ON A.ARTICLE_DOI = OA.ARTICLE_DOI \n",
    "    LEFT JOIN {analytics_schema}.TEXT_EMBEDDING_ARTICLE E\n",
    "        ON E.DOI = A.ARTICLE_DOI\n",
    "WHERE\n",
    "    F.IS_EUTOPIAN_PUBLICATION\n",
    "    AND A.ARTICLE_TITLE <> 'n/a'\n",
    "    AND (OA.IS_ARTICLE_OPEN_ACCESS OR A.ARTICLE_ABSTRACT <> 'n/a' OR A.ARTICLE_REFERENCE <> 'n/a')\n",
    "    AND A.ARTICLE_LANGUAGE = 'en'\n",
    "    AND E.DOI IS NOT NULL\n",
    "\"\"\"\n",
    "\n",
    "df_articles_relevant = client.query(query_articles_relevant).to_dataframe()\n",
    "n_new_relevant_articles = df_articles_relevant.iloc[0, 0]\n",
    "\n",
    "# Calculate the percentage of relevant articles\n",
    "pct_relevant_articles = 100\n",
    "pct_new_relevant_articles = 100 * n_new_relevant_articles / n_relevant_articles\n",
    "\n",
    "# Visualize the coverage of relevant articles\n",
    "ax = sns.barplot(y=['All EUTOPIA\\narticles', 'Articles with\\nsufficient data'],\n",
    "                 x=[n_relevant_articles, n_new_relevant_articles])\n",
    "\n",
    "# Add the data labels to the plot including both the value with thousands comma and the percentage of initial definition\n",
    "for i, value in enumerate([n_relevant_articles, n_new_relevant_articles]):\n",
    "    pct = 100 if i == 0 else pct_new_relevant_articles\n",
    "    label = f'{value:,.0f} ({pct:.1f}%)'\n",
    "    ax.text(value, i, label, ha='center', va='center')\n",
    "\n",
    "plt.ylabel('Percentage of relevant articles (%)')\n",
    "plt.title('Coverage (%) of relevant articles relative to initial definition')\n",
    "plt.show()"
   ],
   "id": "138a1b7636c93193",
   "outputs": [],
   "execution_count": null
  },
  {
   "metadata": {},
   "cell_type": "markdown",
   "source": [
    "## DIM_AUTHOR\n",
    "Read the `DIM_AUTHOR` table from the BigQuery dataset and output first few rows of the table to understand what the data looks like."
   ],
   "id": "29801756e7dc12ee"
  },
  {
   "metadata": {
    "jupyter": {
     "is_executing": true
    }
   },
   "cell_type": "code",
   "source": [
    "query_author = f\"\"\"\n",
    "SELECT\n",
    "    *\n",
    "FROM\n",
    "    {read_schema}.DIM_AUTHOR\n",
    "\"\"\"\n",
    "\n",
    "df_author = client.query(query_author).to_dataframe()\n",
    "df_author.head(10)"
   ],
   "id": "bdf4c79086ad4fa0",
   "outputs": [],
   "execution_count": null
  },
  {
   "metadata": {
    "jupyter": {
     "is_executing": true
    }
   },
   "cell_type": "code",
   "source": [
    "plot_health_metrics(df_source=df_author,\n",
    "                    table_name='DIM_AUTHOR',\n",
    "                    default_value=DEFAULT_VALUE,\n",
    "                    palette=palette)"
   ],
   "id": "efe368004ba5a56b",
   "outputs": [],
   "execution_count": null
  },
  {
   "metadata": {},
   "cell_type": "markdown",
   "source": [
    "## FCT_COLLABORATION\n",
    "Read the `FCT_COLLABORATION` table from the BigQuery dataset and output first few rows of the table to understand what the data looks like."
   ],
   "id": "8c186e2729ff7dfb"
  },
  {
   "metadata": {
    "jupyter": {
     "is_executing": true
    }
   },
   "cell_type": "code",
   "source": [
    "query_collaboration = f\"\"\"\n",
    "SELECT\n",
    "    *\n",
    "FROM\n",
    "    {read_schema}.FCT_COLLABORATION\n",
    "\"\"\"\n",
    "\n",
    "df_collaboration = client.query(query_collaboration).to_dataframe()\n",
    "df_collaboration.head(10)"
   ],
   "id": "55d86f04358c93eb",
   "outputs": [],
   "execution_count": null
  },
  {
   "metadata": {
    "jupyter": {
     "is_executing": true
    }
   },
   "cell_type": "code",
   "source": [
    "plot_health_metrics(df_source=df_collaboration,\n",
    "                    table_name='FCT_COLLABORATION',\n",
    "                    default_value=DEFAULT_VALUE,\n",
    "                    palette=palette)"
   ],
   "id": "f073c8f268f4b6ad",
   "outputs": [],
   "execution_count": null
  },
  {
   "metadata": {},
   "cell_type": "markdown",
   "source": [
    "## FCT_COLLABORATION_NOVELTY\n",
    "Read the `FCT_COLLABORATION_NOVELTY` table from the BigQuery dataset and output first few rows of the table to understand what the data looks like."
   ],
   "id": "e59a603f480fa3e3"
  },
  {
   "metadata": {
    "jupyter": {
     "is_executing": true
    }
   },
   "cell_type": "code",
   "source": [
    "query_collaboration_novelty = f\"\"\"\n",
    "SELECT\n",
    "    *\n",
    "FROM\n",
    "    {read_schema}.FCT_COLLABORATION_NOVELTY\n",
    "\"\"\"\n",
    "\n",
    "df_collaboration_novelty = client.query(query_collaboration_novelty).to_dataframe()\n",
    "df_collaboration_novelty.head(10)"
   ],
   "id": "3c8f792ca84fe744",
   "outputs": [],
   "execution_count": null
  },
  {
   "metadata": {
    "jupyter": {
     "is_executing": true
    }
   },
   "cell_type": "code",
   "source": [
    "plot_health_metrics(df_source=df_collaboration_novelty,\n",
    "                    table_name='FCT_COLLABORATION_NOVELTY',\n",
    "                    default_value=DEFAULT_VALUE,\n",
    "                    palette=palette)"
   ],
   "id": "54f26d3e42dc9ed2",
   "outputs": [],
   "execution_count": null
  },
  {
   "metadata": {},
   "cell_type": "markdown",
   "source": [
    "### Collaboration Novelty Index Distribution\n",
    "We will check data quality of the `FCT_COLLABORATION_NOVELTY` table by plotting the distribution of the `COLLABORATION_NOVELTY_INDEX` column."
   ],
   "id": "32cbac7821eed69a"
  },
  {
   "metadata": {
    "jupyter": {
     "is_executing": true
    }
   },
   "cell_type": "code",
   "source": [
    "# Cutoff the outliers top 5 percentiles\n",
    "df_collaboration_novelty_cut = df_collaboration_novelty[\n",
    "    (df_collaboration_novelty['COLLABORATION_NOVELTY_INDEX'] <\n",
    "     df_collaboration_novelty['COLLABORATION_NOVELTY_INDEX'].quantile(\n",
    "         0.95))]\n",
    "\n",
    "# Define custom bins\n",
    "custom_bins = np.linspace(df_collaboration_novelty_cut['COLLABORATION_NOVELTY_INDEX'].min(),\n",
    "                          df_collaboration_novelty_cut['COLLABORATION_NOVELTY_INDEX'].max(), 30)\n",
    "\n",
    "# Pre-calculate histogram values\n",
    "counts, bin_edges = np.histogram(df_collaboration_novelty_cut['COLLABORATION_NOVELTY_INDEX'], bins=custom_bins)\n",
    "\n",
    "# Plot the pre-calculated histogram values\n",
    "plt.hist(bin_edges[:-1], bins=bin_edges, weights=counts, alpha=0.7, label='Histogram')\n",
    "plt.xlabel('Collaboration Novelty Index')\n",
    "plt.ylabel('Frequency')\n",
    "plt.title('Distribution of Collaboration Novelty Index')\n",
    "plt.show()"
   ],
   "id": "913243c35eaa1a64",
   "outputs": [],
   "execution_count": null
  },
  {
   "metadata": {},
   "cell_type": "markdown",
   "source": [
    "## FCT_ARTICLE_TOPIC\n",
    "Read the `FCT_COLLABORATION_TYPE` table from the BigQuery dataset and output first few rows of the table to understand what the data looks like."
   ],
   "id": "b551268666ab20b2"
  },
  {
   "metadata": {
    "jupyter": {
     "is_executing": true
    }
   },
   "cell_type": "code",
   "source": [
    "query_article_topic = f\"\"\"\n",
    "SELECT\n",
    "    *\n",
    "FROM\n",
    "    {read_schema}.FCT_ARTICLE_TOPIC\n",
    "\"\"\"\n",
    "\n",
    "df_article_topic = client.query(query_article_topic).to_dataframe()\n",
    "df_article_topic.head(10)"
   ],
   "id": "9996e8943e22c3b6",
   "outputs": [],
   "execution_count": null
  },
  {
   "metadata": {
    "jupyter": {
     "is_executing": true
    }
   },
   "cell_type": "code",
   "source": [
    "plot_health_metrics(df_source=df_article_topic,\n",
    "                    table_name='FCT_ARTICLE_TOPIC',\n",
    "                    default_value=DEFAULT_VALUE,\n",
    "                    palette=palette)"
   ],
   "id": "c1cb98ed685fc8d7",
   "outputs": [],
   "execution_count": null
  }
 ],
 "metadata": {
  "kernelspec": {
   "display_name": "Python 3",
   "language": "python",
   "name": "python3"
  },
  "language_info": {
   "codemirror_mode": {
    "name": "ipython",
    "version": 2
   },
   "file_extension": ".py",
   "mimetype": "text/x-python",
   "name": "python",
   "nbconvert_exporter": "python",
   "pygments_lexer": "ipython2",
   "version": "2.7.6"
  }
 },
 "nbformat": 4,
 "nbformat_minor": 5
}
